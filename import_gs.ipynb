    name_gs = input("Write the name of the GSheet = ")
    try:
        dataset_gs = gc.open(name_gs)

        name_ws = input("Write the name of the Worksheet = ")
        try:
            worksheet_gs = dataset_gs.worksheet(name_ws)
            rows_ws = worksheet_gs.get_all_values()
            df_ws = pd.DataFrame.from_records(rows_ws)
            df_ws.columns = df_ws.iloc[0]
            df_ws = df_ws.iloc[1:]
            return df_ws
        except gspread.WorksheetNotFound:
            print(f"Worksheet '{name_ws}' not found.")
        except Exception as e:
            print(f"An error occurred while manipulating the worksheet : {e}")

        return dataset_gs

    except gspread.SpreadsheetNotFound:
        print(f"GSheet '{name_gs}' not found.")
    except Exception as e:
        print(f"An error occurred while opening the GSheet file: {e}")

    return None
